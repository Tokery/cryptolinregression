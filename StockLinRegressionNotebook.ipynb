{
 "cells": [
  {
   "cell_type": "code",
   "execution_count": 15,
   "metadata": {
    "collapsed": true
   },
   "outputs": [],
   "source": [
    "import csv\n",
    "import numpy as np\n",
    "from sklearn import linear_model\n",
    "import matplotlib.pyplot as plt"
   ]
  },
  {
   "cell_type": "code",
   "execution_count": 17,
   "metadata": {
    "collapsed": true
   },
   "outputs": [],
   "source": [
    "dates = []\n",
    "prices = []"
   ]
  },
  {
   "cell_type": "code",
   "execution_count": 9,
   "metadata": {
    "collapsed": true
   },
   "outputs": [],
   "source": [
    "def get_data(filename):\n",
    "    with open(filename, 'r') as csvfile:\n",
    "        csvFileReader = csv.reader(csvfile)\n",
    "        next(csvFileReader) # Skip column headers\n",
    "        day = 0\n",
    "        for row in csvFileReader:\n",
    "            day += 1\n",
    "            dates.append(day)\n",
    "            prices.append(float(row[5]))\n",
    "    return"
   ]
  },
  {
   "cell_type": "code",
   "execution_count": 10,
   "metadata": {
    "collapsed": true
   },
   "outputs": [],
   "source": [
    "# dates: the list of dates in integer type\n",
    "# prices: the opening price of stock for the corresponding date\n",
    "# x: the date for which we want to predict the price\n",
    "def predict_price(dates,prices,x):\n",
    "    linear_mod = linear_model.LinearRegression() #defining the linear regression\n",
    "    dates = np.reshape(dates, (len(dates), 1)) # convert to nx1 matrix (n rows, 1 column)\n",
    "    prices = np.reshape(prices, (len(prices), 1)) \n",
    "    # Fit the estimator linear_mod (Gotta get that maximum likelihood estimate)\n",
    "    linear_mod.fit(dates, prices) # fit the data points to the model (Learn from the model)\n",
    "    predicted_price = linear_mod.predict(x)\n",
    "    return predicted_price[0][0], linear_mod.coef_[0][0], linear_mod.intercept_[0]"
   ]
  },
  {
   "cell_type": "code",
   "execution_count": 11,
   "metadata": {
    "collapsed": true
   },
   "outputs": [],
   "source": [
    "def show_plot(dates, prices):\n",
    "    linear_mod = linear_model.LinearRegression()\n",
    "    dates = np.reshape(dates, (len(dates), 1))\n",
    "    prices = np.reshape(prices, (len(prices), 1)) \n",
    "    linear_mod.fit(dates, prices)\n",
    "    plt.scatter(dates, prices, color='yellow')\n",
    "\n",
    "    plt.plot(dates, linear_mod.predict(dates), color='blue', linewidth=3)\n",
    "    plt.show()\n",
    "    return"
   ]
  },
  {
   "cell_type": "code",
   "execution_count": 13,
   "metadata": {},
   "outputs": [
    {
     "data": {
      "text/plain": [
       "[]"
      ]
     },
     "execution_count": 13,
     "metadata": {},
     "output_type": "execute_result"
    }
   ],
   "source": [
    "dates"
   ]
  },
  {
   "cell_type": "code",
   "execution_count": 18,
   "metadata": {},
   "outputs": [
    {
     "data": {
      "image/png": "[encoded data removed]",
      "text/plain": [
       "<matplotlib.figure.Figure at 0x18234775da0>"
      ]
     },
     "metadata": {},
     "output_type": "display_data"
    },
    {
     "name": "stdout",
     "output_type": "stream",
     "text": [
      "186.6574506740125, 0.23318818073989753, 127.19446458533862\n"
     ]
    }
   ],
   "source": [
    "get_data('FB.csv')\n",
    "show_plot(dates, prices)\n",
    "predicted_price, coefficient, constant = predict_price(dates, prices, 255)\n",
    "print (\"{0}, {1}, {2}\".format(predicted_price, coefficient, constant))\n"
   ]
  },
  {
   "cell_type": "code",
   "execution_count": null,
   "metadata": {
    "collapsed": true
   },
   "outputs": [],
   "source": []
  }
 ],
 "metadata": {
  "kernelspec": {
   "display_name": "Python 3",
   "language": "python",
   "name": "python3"
  },
  "language_info": {
   "codemirror_mode": {
    "name": "ipython",
    "version": 3
   },
   "file_extension": ".py",
   "mimetype": "text/x-python",
   "name": "python",
   "nbconvert_exporter": "python",
   "pygments_lexer": "ipython3",
   "version": "3.6.1"
  }
 },
 "nbformat": 4,
 "nbformat_minor": 2
}
