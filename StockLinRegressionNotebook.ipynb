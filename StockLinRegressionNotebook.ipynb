{
 "cells": [
  {
   "cell_type": "code",
   "execution_count": 6,
   "metadata": {
    "collapsed": true
   },
   "outputs": [],
   "source": [
    "import numpy as np\n",
    "from sklearn import linear_model\n",
    "import matplotlib.pyplot as plt"
   ]
  },
  {
   "cell_type": "code",
   "execution_count": 2,
   "metadata": {
    "collapsed": true
   },
   "outputs": [],
   "source": [
    "dates = [26, 25, 24, 23, 22, 19, 18, 17, 16, 12, 11, 10, 9, 8, 5, 4, 3, 2, 1]\n",
    "prices = [708.58, 700.01, 688.92, 701.45, 707.45, 695.03, 710.0, 699.0, 692.98, 690.26, 675.0, 686.86, 672.32, 667.85, 703.87, 722.81, 770.22, 784.5, 750.46]"
   ]
  },
  {
   "cell_type": "code",
   "execution_count": 3,
   "metadata": {
    "collapsed": true
   },
   "outputs": [],
   "source": [
    "# dates: the list of dates in integer type\n",
    "# prices: the opening price of stock for the corresponding date\n",
    "# x: the date for which we want to predict the price\n",
    "def predict_price(dates,prices,x):\n",
    "    linear_mod = linear_model.LinearRegression() #defining the linear regression\n",
    "    dates = np.reshape(dates, (len(dates), 1)) # convert to nx1 matrix (n rows, 1 column)\n",
    "    prices = np.reshape(prices, (len(prices), 1)) \n",
    "    # Fit the estimator linear_mod (Gotta get that maximum likelihood estimate)\n",
    "    linear_mod.fit(dates, prices) # fit the data points to the model (Learn from the model)\n",
    "    predicted_price = linear_mod.predict(x)\n",
    "    return predicted_price[0][0], linear_mod.coef_[0][0], linear_mod.intercept_[0]"
   ]
  },
  {
   "cell_type": "code",
   "execution_count": 4,
   "metadata": {
    "collapsed": true
   },
   "outputs": [],
   "source": [
    "def show_plot(dates, prices):\n",
    "    linear_mod = linear_model.LinearRegression()\n",
    "    dates = np.reshape(dates, (len(dates), 1))\n",
    "    prices = np.reshape(prices, (len(prices), 1)) \n",
    "    linear_mod.fit(dates, prices)\n",
    "    plt.scatter(dates, prices, color='yellow')\n",
    "\n",
    "    plt.plot(dates, linear_mod.predict(dates), color='blue', linewidth=3)\n",
    "    plt.show()\n",
    "    return"
   ]
  },
  {
   "cell_type": "code",
   "execution_count": 7,
   "metadata": {},
   "outputs": [
    {
     "data": {
      "image/png": "[encoded data removed]",
      "text/plain": [
       "<matplotlib.figure.Figure at 0x1b1d05e1fd0>"
      ]
     },
     "metadata": {},
     "output_type": "display_data"
    },
    {
     "name": "stdout",
     "output_type": "stream",
     "text": [
      "Predicted price is 680.9255197999166\n",
      "Coefficient is -1.6553551479783242 and constant is 728.9308190912881\n"
     ]
    }
   ],
   "source": [
    "show_plot(dates, prices)\n",
    "predicted_price, coefficient, constant = predict_price(dates, prices, 29)\n",
    "print (\"Predicted price is {0}\".format(predicted_price))\n",
    "print (\"Coefficient is {0} and constant is {1}\".format(coefficient, constant))\n"
   ]
  },
  {
   "cell_type": "code",
   "execution_count": null,
   "metadata": {
    "collapsed": true
   },
   "outputs": [],
   "source": []
  }
 ],
 "metadata": {
  "kernelspec": {
   "display_name": "Python 3",
   "language": "python",
   "name": "python3"
  },
  "language_info": {
   "codemirror_mode": {
    "name": "ipython",
    "version": 3
   },
   "file_extension": ".py",
   "mimetype": "text/x-python",
   "name": "python",
   "nbconvert_exporter": "python",
   "pygments_lexer": "ipython3",
   "version": "3.6.1"
  }
 },
 "nbformat": 4,
 "nbformat_minor": 2
}
